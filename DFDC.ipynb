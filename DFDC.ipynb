{
 "cells": [
  {
   "cell_type": "markdown",
   "metadata": {},
   "source": [
    "## I Know OpenCV and know to uses but Took Help of Chat Gpt bCoz data complexity"
   ]
  },
  {
   "cell_type": "code",
   "execution_count": 14,
   "metadata": {},
   "outputs": [],
   "source": [
    "import cv2\n",
    "import os\n",
    "import random\n",
    "import shutil\n",
    "\n",
    "# --------- Step 1: Set paths ----------\n",
    "source_paths = [\n",
    "    \"Celeb-DF/celeb-real\",\n",
    "    \"Celeb-DF/celeb-synthesis\",\n",
    "    \"Celeb-DF/YouTube-real\",\n",
    "    \"Celeb-DF-v2/celeb-real\",\n",
    "    \"Celeb-DF-v2/celeb-synthesis\",\n",
    "    \"Celeb-DF-v2/YouTube-real\"\n",
    "]\n",
    "\n",
    "\n",
    "output_base = \"extracted_frames\"\n",
    "train_ratio = 0.8\n",
    "\n",
    "# --------- Step 2: Create Output Folders ----------\n",
    "for split in [\"train\", \"val\"]:\n",
    "    for label in [\"real\", \"fake\"]:\n",
    "        os.makedirs(os.path.join(output_base, split, label), exist_ok=True)\n",
    "\n",
    "# --------- Step 3: Function to extract frames ----------\n",
    "def extract_frames(video_path, output_folder, frame_rate=10):\n",
    "    cap = cv2.VideoCapture(video_path)\n",
    "    count = 0\n",
    "    saved = 0\n",
    "    while cap.isOpened():\n",
    "        ret, frame = cap.read()\n",
    "        if not ret:\n",
    "            break\n",
    "        if count % frame_rate == 0:\n",
    "            filename = f\"{os.path.splitext(os.path.basename(video_path))[0]}_frame{count}.jpg\"\n",
    "            cv2.imwrite(os.path.join(output_folder, filename), frame)\n",
    "            saved += 1\n",
    "        count += 1\n",
    "    cap.release()\n",
    "    return saved\n",
    "\n",
    "# --------- Step 4: Process each video ----------\n",
    "for path in source_paths:\n",
    "    label = \"real\" if \"real\" in path else \"fake\"\n",
    "    videos = os.listdir(path)\n",
    "    random.shuffle(videos)\n",
    "    \n",
    "    split_index = int(len(videos) * train_ratio)\n",
    "    train_videos = videos[:split_index]\n",
    "    val_videos = videos[split_index:]\n",
    "\n",
    "    for split, split_videos in zip([\"train\", \"val\"], [train_videos, val_videos]):\n",
    "        for video in split_videos:\n",
    "            video_path = os.path.join(path, video)\n",
    "            if not video_path.lower().endswith((\".mp4\", \".avi\", \".mov\", \".mkv\")):\n",
    "                continue  # skip non-video files\n",
    "            output_folder = os.path.join(output_base, split, label)\n",
    "            try:\n",
    "                extract_frames(video_path, output_folder)\n",
    "            except:\n",
    "                print(f\"⚠️ Error reading: {video_path}\")\n"
   ]
  },
  {
   "cell_type": "markdown",
   "metadata": {},
   "source": [
    "## Using CNN\n"
   ]
  },
  {
   "cell_type": "markdown",
   "metadata": {},
   "source": [
    "##### Importing libraries"
   ]
  },
  {
   "cell_type": "code",
   "execution_count": 18,
   "metadata": {},
   "outputs": [],
   "source": [
    "import tensorflow as tf\n",
    "from tensorflow.keras.models import Sequential\n",
    "from tensorflow.keras.layers import Conv2D, MaxPooling2D, Flatten, Dense, Dropout\n",
    "from tensorflow.keras.preprocessing.image import ImageDataGenerator"
   ]
  },
  {
   "cell_type": "markdown",
   "metadata": {},
   "source": [
    "##### Image size and path"
   ]
  },
  {
   "cell_type": "code",
   "execution_count": 19,
   "metadata": {},
   "outputs": [],
   "source": [
    "img_size = (96, 96)\n",
    "batch_size = 32"
   ]
  },
  {
   "cell_type": "markdown",
   "metadata": {},
   "source": [
    "##### Training the Data into Train and val(test)"
   ]
  },
  {
   "cell_type": "code",
   "execution_count": 20,
   "metadata": {},
   "outputs": [
    {
     "name": "stdout",
     "output_type": "stream",
     "text": [
      "Found 212700 images belonging to 2 classes.\n",
      "Found 53174 images belonging to 2 classes.\n"
     ]
    }
   ],
   "source": [
    "\n",
    "# Data generators\n",
    "train_datagen = ImageDataGenerator(\n",
    "    rescale=1./255,\n",
    "    rotation_range=15,\n",
    "    zoom_range=0.1,\n",
    "    horizontal_flip=True,\n",
    "    shear_range=0.1,\n",
    "    validation_split=0.2\n",
    ")\n",
    "\n",
    "train_generator = train_datagen.flow_from_directory(\n",
    "    \"extracted_frames/\",\n",
    "    target_size=img_size,\n",
    "    batch_size=batch_size,\n",
    "    class_mode=\"binary\",\n",
    "    subset='training'\n",
    ")\n",
    "\n",
    "val_generator = train_datagen.flow_from_directory(\n",
    "    \"extracted_frames/\",\n",
    "    target_size=img_size,\n",
    "    batch_size=batch_size,\n",
    "    class_mode=\"binary\",\n",
    "    subset='validation'\n",
    ")"
   ]
  },
  {
   "cell_type": "markdown",
   "metadata": {},
   "source": [
    "#### CNN Model Training"
   ]
  },
  {
   "cell_type": "code",
   "execution_count": 21,
   "metadata": {},
   "outputs": [],
   "source": [
    "\n",
    "# CNN model\n",
    "model = Sequential([\n",
    "    Conv2D(32, (3, 3), activation='relu', input_shape=(*img_size, 3)),\n",
    "    MaxPooling2D(),\n",
    "    \n",
    "    Conv2D(64, (3, 3), activation='relu'),\n",
    "    MaxPooling2D(),\n",
    "\n",
    "    Conv2D(128, (3, 3), activation='relu'),\n",
    "    MaxPooling2D(),\n",
    "\n",
    "    Flatten(),\n",
    "    Dense(128, activation='relu'),\n",
    "    Dropout(0.5),\n",
    "    Dense(1, activation='sigmoid')\n",
    "])"
   ]
  },
  {
   "cell_type": "markdown",
   "metadata": {},
   "source": [
    "#### Compiling the data after Using CNN "
   ]
  },
  {
   "cell_type": "code",
   "execution_count": 22,
   "metadata": {},
   "outputs": [],
   "source": [
    "model.compile(optimizer='adam', loss='binary_crossentropy', metrics=['accuracy'])"
   ]
  },
  {
   "cell_type": "markdown",
   "metadata": {},
   "source": [
    "## Training the Frames which we exctracted"
   ]
  },
  {
   "cell_type": "code",
   "execution_count": 24,
   "metadata": {},
   "outputs": [
    {
     "name": "stdout",
     "output_type": "stream",
     "text": [
      "Epoch 1/10\n",
      "\u001b[1m6647/6647\u001b[0m \u001b[32m━━━━━━━━━━━━━━━━━━━━\u001b[0m\u001b[37m\u001b[0m \u001b[1m1895s\u001b[0m 285ms/step - accuracy: 0.7821 - loss: 0.5211 - val_accuracy: 0.7755 - val_loss: 0.5514\n",
      "Epoch 2/10\n",
      "\u001b[1m6647/6647\u001b[0m \u001b[32m━━━━━━━━━━━━━━━━━━━━\u001b[0m\u001b[37m\u001b[0m \u001b[1m2096s\u001b[0m 315ms/step - accuracy: 0.7825 - loss: 0.5120 - val_accuracy: 0.7685 - val_loss: 0.5763\n",
      "Epoch 3/10\n",
      "\u001b[1m6647/6647\u001b[0m \u001b[32m━━━━━━━━━━━━━━━━━━━━\u001b[0m\u001b[37m\u001b[0m \u001b[1m1708s\u001b[0m 257ms/step - accuracy: 0.7851 - loss: 0.5012 - val_accuracy: 0.7613 - val_loss: 0.6343\n",
      "Epoch 4/10\n",
      "\u001b[1m6647/6647\u001b[0m \u001b[32m━━━━━━━━━━━━━━━━━━━━\u001b[0m\u001b[37m\u001b[0m \u001b[1m1735s\u001b[0m 261ms/step - accuracy: 0.7854 - loss: 0.4970 - val_accuracy: 0.7560 - val_loss: 0.6137\n",
      "Epoch 5/10\n",
      "\u001b[1m6647/6647\u001b[0m \u001b[32m━━━━━━━━━━━━━━━━━━━━\u001b[0m\u001b[37m\u001b[0m \u001b[1m1616s\u001b[0m 243ms/step - accuracy: 0.7846 - loss: 0.4930 - val_accuracy: 0.7360 - val_loss: 0.7242\n",
      "Epoch 6/10\n",
      "\u001b[1m6647/6647\u001b[0m \u001b[32m━━━━━━━━━━━━━━━━━━━━\u001b[0m\u001b[37m\u001b[0m \u001b[1m1669s\u001b[0m 251ms/step - accuracy: 0.7840 - loss: 0.4936 - val_accuracy: 0.7401 - val_loss: 0.7518\n",
      "Epoch 7/10\n",
      "\u001b[1m6647/6647\u001b[0m \u001b[32m━━━━━━━━━━━━━━━━━━━━\u001b[0m\u001b[37m\u001b[0m \u001b[1m1871s\u001b[0m 282ms/step - accuracy: 0.7866 - loss: 0.4875 - val_accuracy: 0.7305 - val_loss: 0.6843\n",
      "Epoch 8/10\n",
      "\u001b[1m6647/6647\u001b[0m \u001b[32m━━━━━━━━━━━━━━━━━━━━\u001b[0m\u001b[37m\u001b[0m \u001b[1m1960s\u001b[0m 295ms/step - accuracy: 0.7871 - loss: 0.4858 - val_accuracy: 0.7209 - val_loss: 0.8135\n",
      "Epoch 9/10\n",
      "\u001b[1m6647/6647\u001b[0m \u001b[32m━━━━━━━━━━━━━━━━━━━━\u001b[0m\u001b[37m\u001b[0m \u001b[1m1851s\u001b[0m 279ms/step - accuracy: 0.7893 - loss: 0.4825 - val_accuracy: 0.7232 - val_loss: 0.8733\n",
      "Epoch 10/10\n",
      "\u001b[1m6647/6647\u001b[0m \u001b[32m━━━━━━━━━━━━━━━━━━━━\u001b[0m\u001b[37m\u001b[0m \u001b[1m1889s\u001b[0m 284ms/step - accuracy: 0.7881 - loss: 0.4828 - val_accuracy: 0.7174 - val_loss: 0.8067\n"
     ]
    }
   ],
   "source": [
    "history = model.fit(\n",
    "    train_generator,\n",
    "    epochs=10,\n",
    "    validation_data=val_generator\n",
    ")"
   ]
  },
  {
   "cell_type": "markdown",
   "metadata": {},
   "source": [
    "## Predicting on Test case(val)"
   ]
  },
  {
   "cell_type": "code",
   "execution_count": 26,
   "metadata": {},
   "outputs": [
    {
     "name": "stdout",
     "output_type": "stream",
     "text": [
      "\u001b[1m1662/1662\u001b[0m \u001b[32m━━━━━━━━━━━━━━━━━━━━\u001b[0m\u001b[37m\u001b[0m \u001b[1m258s\u001b[0m 155ms/step\n"
     ]
    }
   ],
   "source": [
    "import numpy as np\n",
    "val_generator.reset()\n",
    "predictions = model.predict(val_generator)\n",
    "y_pred = np.argmax(predictions, axis=1)\n",
    "y_true = val_generator.classes"
   ]
  },
  {
   "cell_type": "markdown",
   "metadata": {},
   "source": [
    "# Accuracy Score and Confusion Matrix With Sklearn"
   ]
  },
  {
   "cell_type": "code",
   "execution_count": 28,
   "metadata": {},
   "outputs": [
    {
     "data": {
      "text/plain": [
       "0.7835032158573739"
      ]
     },
     "execution_count": 28,
     "metadata": {},
     "output_type": "execute_result"
    }
   ],
   "source": [
    "from sklearn.metrics import accuracy_score\n",
    "\n",
    "\n",
    "accuracy_score(y_true , y_pred)"
   ]
  },
  {
   "cell_type": "code",
   "execution_count": 30,
   "metadata": {},
   "outputs": [
    {
     "name": "stderr",
     "output_type": "stream",
     "text": [
      "WARNING:absl:You are saving your model as an HDF5 file via `model.save()` or `keras.saving.save_model(model)`. This file format is considered legacy. We recommend using instead the native Keras format, e.g. `model.save('my_model.keras')` or `keras.saving.save_model(model, 'my_model.keras')`. \n"
     ]
    }
   ],
   "source": [
    "model.save('deepfake_detection_model.h5')"
   ]
  },
  {
   "cell_type": "code",
   "execution_count": null,
   "metadata": {},
   "outputs": [],
   "source": []
  }
 ],
 "metadata": {
  "kernelspec": {
   "display_name": "base",
   "language": "python",
   "name": "python3"
  },
  "language_info": {
   "codemirror_mode": {
    "name": "ipython",
    "version": 3
   },
   "file_extension": ".py",
   "mimetype": "text/x-python",
   "name": "python",
   "nbconvert_exporter": "python",
   "pygments_lexer": "ipython3",
   "version": "3.12.4"
  }
 },
 "nbformat": 4,
 "nbformat_minor": 2
}
